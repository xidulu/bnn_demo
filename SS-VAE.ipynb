{
 "cells": [
  {
   "cell_type": "markdown",
   "metadata": {},
   "source": [
    "Source: https://arxiv.org/abs/1406.5298"
   ]
  },
  {
   "cell_type": "code",
   "execution_count": 1,
   "metadata": {},
   "outputs": [],
   "source": [
    "from tqdm import tqdm, tqdm_notebook\n",
    "from mxnet import np, npx\n",
    "import mxnet as mx\n",
    "from mxnet import nd, autograd, gluon\n",
    "from mxnet.gluon import nn\n",
    "import mxnet.gluon.probability as mgp\n",
    "from mxnet.gluon.probability import StochasticBlock, StochasticSequential\n",
    "import matplotlib\n",
    "import matplotlib.pyplot as plt\n",
    "from scipy import ndimage, misc\n",
    "\n",
    "npx.set_np()\n",
    "data_ctx = mx.cpu()\n",
    "model_ctx = mx.gpu(0)"
   ]
  },
  {
   "cell_type": "markdown",
   "metadata": {},
   "source": [
    "$\\newcommand{\\bx}{\\mathbf{x}}$\n",
    "$\\newcommand{\\by}{\\mathbf{y}}$\n",
    "$\\newcommand{\\bz}{\\mathbf{z}}$\n",
    "\n",
    "Our model is defined as follow\n",
    "\n",
    "$$\n",
    "p(\\bx, y, \\bz) = p(\\bx \\mid y, \\bz) p(y) p(\\bz)\n",
    "$$\n",
    "\n",
    "$$\n",
    "q(\\bz, y \\mid \\bx) = q(\\bz \\mid \\bx, y) q(y \\mid \\bx)\n",
    "$$"
   ]
  },
  {
   "cell_type": "code",
   "execution_count": 2,
   "metadata": {},
   "outputs": [],
   "source": [
    "class SS_VAE(gluon.HybridBlock):\n",
    "    def __init__(self, num_classes=10, n_hidden=256, n_latent=2, n_layers=1, n_output=784, act_type='relu', **kwargs):\n",
    "        self.soft_zero = 1e-10\n",
    "        self.n_latent = n_latent\n",
    "        self.num_classes = num_classes\n",
    "        self.output = None\n",
    "        self.mu = None\n",
    "        super(SS_VAE, self).__init__(**kwargs)\n",
    "        self.encoder_z = nn.HybridSequential()\n",
    "        self.encoder_y = nn.HybridSequential()\n",
    "        for _ in range(n_layers):\n",
    "            self.encoder_z.add(nn.Dense(n_hidden, activation=act_type))\n",
    "            self.encoder_y.add(nn.Dense(n_hidden, activation=act_type))\n",
    "        self.encoder_z.add(nn.Dense(n_latent*2, activation=None))\n",
    "        self.encoder_y.add(nn.Dense(num_classes, activation=None))\n",
    "\n",
    "        self.decoder = nn.HybridSequential()\n",
    "        for _ in range(n_layers):\n",
    "            self.decoder.add(nn.Dense(n_hidden, activation=act_type))\n",
    "        self.decoder.add(nn.Dense(n_output))\n",
    "\n",
    "    def hybrid_forward(self, F, x, y, observed_mask):\n",
    "        logit_y = self.encoder_y(x)\n",
    "        qy_x = mgp.RelaxedOneHotCategorical(T=0.6,\n",
    "                                            num_events=self.num_classes,\n",
    "                                            logit=logit_y, F=F)\n",
    "        py = mgp.RelaxedOneHotCategorical(T=0.6,\n",
    "                                          num_events=self.num_classes,\n",
    "                                          logit=F.np.zeros_like(logit_y), F=F)\n",
    "        y_inferred = qy_x.sample()\n",
    "        y_mixed = observed_mask * y + (1 - observed_mask) * y_inferred\n",
    "        loc_scale = F.np.split(\n",
    "                    self.encoder_z(\n",
    "                        F.np.concatenate((x, y_mixed), -1)), 2, 1)\n",
    "        loc = loc_scale[0]\n",
    "        scale = F.npx.activation(loc_scale[1], 'softrelu')\n",
    "        qz_xy = mgp.Independent(mgp.Normal(loc, scale, F), 1) # Multivaraite Normal with diagonal covariance\n",
    "        pz = mgp.Independent(mgp.Normal(F.np.zeros_like(loc), F.np.ones_like(scale), F), 1)\n",
    "        z = qz_xy.sample()\n",
    "        recon_logit = self.decoder(F.np.concatenate((qz_xy.sample(), y_mixed), -1))\n",
    "        # Binary cross entropy for evaluating p(x|y,z)\n",
    "        px_yz = mgp.Bernoulli(logit=recon_logit)\n",
    "        recon_loss = px_yz.log_prob(x).sum(-1)\n",
    "        # Empirical KL divergence\n",
    "        kl_z = pz.log_prob(z) - qz_xy.log_prob(z)\n",
    "        kl_y = (py.log_prob(y_inferred) - qy_x.log_prob(y_inferred)) * (1 - observed_mask)\n",
    "        kl_loss = kl_z + kl_y * 0.0  # remove kl(q(y)||p(y)) to avoid nan            \n",
    "        # Discriminative objective: q(y|x) on observed y\n",
    "        supervised_loss = ((F.npx.log_softmax(logit_y, -1) * y) * observed_mask).sum()\n",
    "        return ((recon_loss + kl_loss).mean(), supervised_loss)"
   ]
  },
  {
   "cell_type": "code",
   "execution_count": 60,
   "metadata": {},
   "outputs": [],
   "source": [
    "def load_data(batch_size, supervised_rate=0.1):\n",
    "    # Train set\n",
    "    mnist_raw = gluon.data.vision.MNIST(train=True)\n",
    "    train_data = mnist_raw._data\n",
    "    train_label = npx.one_hot(mnist_raw._label, 10)\n",
    "    len_train = train_label.shape[0]\n",
    "    # Whether to corrupt labels\n",
    "#     np.random.shuffle(train_label)\n",
    "    idx = np.random.choice(np.arange(train_label.shape[0]), size=int(len_train * (1 - supervised_rate)), replace=False)\n",
    "    train_label[idx] = -np.ones_like(train_label[0]) # Set unobserved labels to be -1\n",
    "    \n",
    "    mnist_train = gluon.data.ArrayDataset(train_data, train_label)\n",
    "    \n",
    "    # Test set\n",
    "    mnist_test = gluon.data.vision.MNIST(train=False)\n",
    "    num_worker = 8\n",
    "    transformer = gluon.data.vision.transforms.ToTensor()\n",
    "    return (gluon.data.DataLoader(mnist_train.transform_first(transformer),\n",
    "                                batch_size, shuffle=True,\n",
    "                                num_workers=num_worker, thread_pool=True, pin_memory=True),\n",
    "          gluon.data.DataLoader(mnist_test.transform_first(transformer),\n",
    "                                batch_size, shuffle=False,\n",
    "                                num_workers=num_worker, thread_pool=True))\n",
    "                                 "
   ]
  },
  {
   "cell_type": "code",
   "execution_count": 61,
   "metadata": {},
   "outputs": [],
   "source": [
    "def train(net, n_epoch, print_period, train_iter, test_iter):\n",
    "    net.initialize(mx.init.Xavier(), ctx=model_ctx)\n",
    "    net.hybridize()\n",
    "    trainer = gluon.Trainer(net.collect_params(), 'adam',\n",
    "                          {'learning_rate': .001})\n",
    "    training_loss = []\n",
    "    validation_loss = []\n",
    "    loss_func = gluon.loss.SoftmaxCrossEntropyLoss(from_logits=True)\n",
    "    metric = mx.gluon.metric.Accuracy()\n",
    "    alpha = 32.\n",
    "    for epoch in tqdm_notebook(range(n_epoch), desc='epochs'):\n",
    "        metric.reset()\n",
    "        epoch_loss = 0\n",
    "        epoch_val_loss = 0\n",
    "        n_batch_train = 0\n",
    "        for (img, label) in train_iter:\n",
    "            n_batch_train += 1\n",
    "            x = img.copyto(model_ctx).reshape(-1, 28 * 28)\n",
    "            y = label.copyto(model_ctx)\n",
    "            mask = np.expand_dims(np.all(y >= 0, -1), -1).astype('float32')\n",
    "            with autograd.record():\n",
    "                g_loss, d_loss = net(x, y, mask)\n",
    "                loss = -(g_loss + alpha * d_loss)\n",
    "            loss.backward()\n",
    "            trainer.step(x.shape[0])\n",
    "            epoch_loss += np.mean(loss).detach().copy()\n",
    "        \n",
    "        n_batch_val = 0\n",
    "        for (img, label) in test_iter:\n",
    "            n_batch_val += 1\n",
    "            x = img.copyto(model_ctx).reshape(-1, 28 * 28)\n",
    "            y = npx.one_hot(label.copyto(model_ctx), 10)\n",
    "            logit = net.encoder_y(x)\n",
    "            metric.update([label], [logit.as_nd_ndarray()])\n",
    "\n",
    "        epoch_loss /= n_batch_train\n",
    "        name, acc = metric.get()\n",
    "        print('[Epoch %d] Training: %s=%f'%(epoch, name, acc))\n",
    "        print('Epoch{}, Training loss {:.2f}'.format(\n",
    "              epoch, float(epoch_loss)))\n",
    "#         training_loss.append(epoch_loss)\n",
    "#         validation_loss.append(epoch_val_loss)\n",
    "\n",
    "#         if epoch % max(print_period, 1) == 0:\n",
    "#             print('Epoch{}, Training loss {:.2f}, Validation loss {:.2f}'.format(\n",
    "#               epoch, float(epoch_loss), float(epoch_val_loss)))"
   ]
  },
  {
   "cell_type": "code",
   "execution_count": 64,
   "metadata": {},
   "outputs": [],
   "source": [
    "# net2 = net"
   ]
  },
  {
   "cell_type": "code",
   "execution_count": 65,
   "metadata": {},
   "outputs": [
    {
     "name": "stderr",
     "output_type": "stream",
     "text": [
      "/home/ubuntu/anaconda3/lib/python3.7/site-packages/ipykernel_launcher.py:11: TqdmDeprecationWarning: This function will be removed in tqdm==5.0.0\n",
      "Please use `tqdm.notebook.tqdm` instead of `tqdm.tqdm_notebook`\n",
      "  # This is added back by InteractiveShellApp.init_path()\n"
     ]
    },
    {
     "data": {
      "application/vnd.jupyter.widget-view+json": {
       "model_id": "006b513776d94182a91ab0e5e9cbb98b",
       "version_major": 2,
       "version_minor": 0
      },
      "text/plain": [
       "HBox(children=(FloatProgress(value=0.0, description='epochs', max=5.0, style=ProgressStyle(description_width='…"
      ]
     },
     "metadata": {},
     "output_type": "display_data"
    },
    {
     "name": "stdout",
     "output_type": "stream",
     "text": [
      "[Epoch 0] Training: accuracy=0.913000\n",
      "Epoch0, Training loss 341.95\n",
      "[Epoch 1] Training: accuracy=0.935400\n",
      "Epoch1, Training loss 190.01\n",
      "[Epoch 2] Training: accuracy=0.942400\n",
      "Epoch2, Training loss 152.33\n",
      "[Epoch 3] Training: accuracy=0.931400\n",
      "Epoch3, Training loss 137.71\n",
      "[Epoch 4] Training: accuracy=0.941400\n",
      "Epoch4, Training loss 123.74\n",
      "\n"
     ]
    }
   ],
   "source": [
    "n_hidden = 400\n",
    "n_latent = 32\n",
    "n_layers = 2  # num of dense layers in encoder and decoder respectively\n",
    "n_output = 784\n",
    "batch_size = 128\n",
    "model_prefix = 'vae_gluon_{}d{}l{}h.params'.format(\n",
    "  n_latent, n_layers, n_hidden)\n",
    "net = SS_VAE(n_hidden=n_hidden, n_latent=n_latent, n_layers=n_layers,\n",
    "        n_output=n_output)\n",
    "n_epoch = 5\n",
    "print_period = 1\n",
    "train_set, test_set = load_data(batch_size)\n",
    "#     start = time.time()\n",
    "train(net, n_epoch, print_period, train_set, test_set)\n",
    "#     end = time.time()\n",
    "#     print('Time elapsed: {:.2f}s'.format(end - start))"
   ]
  },
  {
   "cell_type": "code",
   "execution_count": 11,
   "metadata": {},
   "outputs": [],
   "source": [
    "test_img = None\n",
    "test_label = None\n",
    "for (img, label) in test_set:\n",
    "    x = img.copyto(model_ctx).reshape(-1, 28 * 28)\n",
    "    y = npx.one_hot(label.copyto(model_ctx), 10)\n",
    "    test_img = x\n",
    "    test_label = y\n",
    "    break"
   ]
  },
  {
   "cell_type": "markdown",
   "metadata": {},
   "source": [
    "## Reconstruction"
   ]
  },
  {
   "cell_type": "code",
   "execution_count": 12,
   "metadata": {},
   "outputs": [],
   "source": [
    "z_xy = net.encoder_z(np.concatenate((test_img, test_label), -1))[:,:n_latent]\n",
    "origin_img = test_img.asnumpy().reshape(-1, 28, 28)\n",
    "recon = npx.sigmoid(net.decoder(np.concatenate((z_xy, test_label), -1))).asnumpy().reshape(-1, 28, 28)"
   ]
  },
  {
   "cell_type": "code",
   "execution_count": 13,
   "metadata": {},
   "outputs": [
    {
     "data": {
      "text/plain": [
       "<matplotlib.image.AxesImage at 0x7f18142cc908>"
      ]
     },
     "execution_count": 13,
     "metadata": {},
     "output_type": "execute_result"
    },
    {
     "data": {
      "image/png": "[encoded data removed]",
      "text/plain": [
       "<Figure size 432x288 with 1 Axes>"
      ]
     },
     "metadata": {
      "needs_background": "light"
     },
     "output_type": "display_data"
    }
   ],
   "source": [
    "plt.imshow(origin_img[100], cmap='gray')"
   ]
  },
  {
   "cell_type": "code",
   "execution_count": 14,
   "metadata": {},
   "outputs": [
    {
     "data": {
      "text/plain": [
       "<matplotlib.image.AxesImage at 0x7f1814197908>"
      ]
     },
     "execution_count": 14,
     "metadata": {},
     "output_type": "execute_result"
    },
    {
     "data": {
      "image/png": "[encoded data removed]",
      "text/plain": [
       "<Figure size 432x288 with 1 Axes>"
      ]
     },
     "metadata": {
      "needs_background": "light"
     },
     "output_type": "display_data"
    }
   ],
   "source": [
    "# Reconstruction\n",
    "plt.imshow(recon[100], cmap='gray')"
   ]
  },
  {
   "cell_type": "markdown",
   "metadata": {},
   "source": [
    "## Conditional Generation with corrupted label\n",
    "\n",
    "Changing $y$ has no effect on the final output."
   ]
  },
  {
   "cell_type": "code",
   "execution_count": 16,
   "metadata": {},
   "outputs": [],
   "source": [
    "num_samples = 16\n",
    "label_6 = npx.one_hot(np.array([[6],]), 10).copyto(model_ctx).repeat(num_samples, axis=1).squeeze()\n",
    "# samples from prior\n",
    "noise = np.random.normal(size=(num_samples, n_latent), ctx=model_ctx)\n",
    "samples = npx.sigmoid(net.decoder(np.concatenate((noise, label_6), -1))).asnumpy().reshape(-1, 28, 28)"
   ]
  },
  {
   "cell_type": "code",
   "execution_count": 17,
   "metadata": {},
   "outputs": [
    {
     "data": {
      "image/png": "[encoded data removed]",
      "text/plain": [
       "<Figure size 576x576 with 16 Axes>"
      ]
     },
     "metadata": {},
     "output_type": "display_data"
    }
   ],
   "source": [
    "fig, axes = plt.subplots(nrows=4, ncols=4, figsize=(8, 8),\n",
    "                             subplot_kw={'xticks': [], 'yticks': []})\n",
    "\n",
    "for i in range(16):\n",
    "    axes[int(i / 4), i % 4].imshow(samples[i], cmap='gray')"
   ]
  },
  {
   "cell_type": "markdown",
   "metadata": {},
   "source": [
    "## Decoder weights with corrputed labels"
   ]
  },
  {
   "cell_type": "code",
   "execution_count": 59,
   "metadata": {},
   "outputs": [
    {
     "data": {
      "image/png": "[encoded data removed]",
      "text/plain": [
       "<Figure size 432x288 with 1 Axes>"
      ]
     },
     "metadata": {
      "needs_background": "light"
     },
     "output_type": "display_data"
    }
   ],
   "source": [
    "x = np.arange(32).asnumpy()\n",
    "barlist = plt.bar(x, (net.decoder[0].weight.data() ** 2).mean(0).asnumpy()[:32], alpha=1.0, label='decoder weight for $z$')\n",
    "# for i in range(32):\n",
    "#     barlist[i].set_color('r')\n",
    "x = (np.arange(10)).asnumpy() + 32\n",
    "barlist = plt.bar(x, (net.decoder[0].weight.data() ** 2).mean(0).asnumpy()[32:], alpha=1.0, label='decoder weight for $y$')\n",
    "plt.legend()\n",
    "plt.title(\"SS-VAE with corrupted labels\")\n",
    "plt.savefig(\"ssvae_cl.pdf\")"
   ]
  },
  {
   "cell_type": "code",
   "execution_count": 66,
   "metadata": {},
   "outputs": [
    {
     "data": {
      "image/png": "[encoded data removed]",
      "text/plain": [
       "<Figure size 432x288 with 1 Axes>"
      ]
     },
     "metadata": {
      "needs_background": "light"
     },
     "output_type": "display_data"
    }
   ],
   "source": [
    "x = np.arange(32).asnumpy()\n",
    "barlist = plt.bar(x, (net.decoder[0].weight.data() ** 2).mean(0).asnumpy()[:32], alpha=1.0, label='decoder weight for $z$')\n",
    "# for i in range(32):\n",
    "#     barlist[i].set_color('r')\n",
    "x = (np.arange(10)).asnumpy() + 32\n",
    "barlist = plt.bar(x, (net.decoder[0].weight.data() ** 2).mean(0).asnumpy()[32:], alpha=1.0, label='decoder weight for $y$')\n",
    "plt.legend()\n",
    "plt.title(\"SS-VAE with uncorrupted labels\")\n",
    "plt.savefig(\"ssvae_ucl.pdf\")"
   ]
  }
 ],
 "metadata": {
  "kernelspec": {
   "display_name": "Python 3",
   "language": "python",
   "name": "python3"
  },
  "language_info": {
   "codemirror_mode": {
    "name": "ipython",
    "version": 3
   },
   "file_extension": ".py",
   "mimetype": "text/x-python",
   "name": "python",
   "nbconvert_exporter": "python",
   "pygments_lexer": "ipython3",
   "version": "3.7.3"
  }
 },
 "nbformat": 4,
 "nbformat_minor": 4
}
