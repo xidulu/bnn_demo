{
 "cells": [
  {
   "cell_type": "code",
   "execution_count": 1,
   "metadata": {},
   "outputs": [],
   "source": [
    "import time\n",
    "import numpy as np\n",
    "import mxnet as mx\n",
    "from tqdm import tqdm, tqdm_notebook\n",
    "from mxnet import nd, autograd, gluon\n",
    "from mxnet import np, npx\n",
    "from mxnet.gluon import nn\n",
    "import matplotlib.pyplot as plt\n",
    "import mxnet.gluon.probability as mgp\n",
    "npx.set_np()\n",
    "data_ctx = mx.cpu()\n",
    "model_ctx = mx.gpu(0)"
   ]
  },
  {
   "cell_type": "code",
   "execution_count": 2,
   "metadata": {},
   "outputs": [],
   "source": [
    "def load_data(batch_size):\n",
    "    mnist_train = gluon.data.vision.MNIST(train=True)\n",
    "    mnist_test = gluon.data.vision.MNIST(train=False)\n",
    "    num_worker = 4\n",
    "    transformer = gluon.data.vision.transforms.ToTensor()\n",
    "    return (gluon.data.DataLoader(mnist_train.transform_first(transformer),\n",
    "                                batch_size, shuffle=True,\n",
    "                                num_workers=num_worker),\n",
    "          gluon.data.DataLoader(mnist_test.transform_first(transformer),\n",
    "                                batch_size, shuffle=False,\n",
    "                                num_workers=num_worker))\n",
    "                                 "
   ]
  },
  {
   "cell_type": "code",
   "execution_count": 3,
   "metadata": {},
   "outputs": [],
   "source": [
    "class VAE(gluon.HybridBlock):\n",
    "    def __init__(self, n_hidden=256, n_latent=2, n_layers=1, n_output=784, act_type='relu', **kwargs):\n",
    "        self.soft_zero = 1e-10\n",
    "        self.n_latent = n_latent\n",
    "        self.output = None\n",
    "        self.mu = None\n",
    "        super(VAE, self).__init__(**kwargs)\n",
    "        self.encoder = nn.HybridSequential()\n",
    "        for _ in range(n_layers):\n",
    "            self.encoder.add(nn.Dense(n_hidden, activation=act_type))\n",
    "        self.encoder.add(nn.Dense(n_latent*2, activation=None))\n",
    "        self.decoder = nn.HybridSequential()\n",
    "        for _ in range(n_layers):\n",
    "            self.decoder.add(nn.Dense(n_hidden, activation=act_type))\n",
    "        self.decoder.add(nn.Dense(n_output, activation='sigmoid'))\n",
    "        \n",
    "    def encode(self, x):\n",
    "        h = self.encoder(x)\n",
    "        loc_scale = np.split(h, 2, 1)\n",
    "        loc = loc_scale[0]\n",
    "        log_variance = loc_scale[1]\n",
    "        scale = np.exp(0.5 * log_variance)\n",
    "        self.loc = loc\n",
    "        return mgp.Normal(loc, scale)\n",
    "    \n",
    "    def decode(self, z):\n",
    "        return self.decoder(z)\n",
    "\n",
    "    def forward(self, x):\n",
    "        prior = mgp.Normal(0, 1)\n",
    "        mvn = self.encode(x)\n",
    "        z = mvn.sample()\n",
    "        y = self.decode(z)\n",
    "        log_variance = 2 * np.log(mvn.scale)\n",
    "        loc = mvn.loc\n",
    "        KL = mgp.kl_divergence(mvn, prior).sum(1)\n",
    "        logloss = np.sum(x * np.log(y+self.soft_zero) + (1-x)\n",
    "                         * np.log(1-y+self.soft_zero), axis=1)\n",
    "        loss = -logloss + KL\n",
    "        return loss"
   ]
  },
  {
   "cell_type": "code",
   "execution_count": 4,
   "metadata": {},
   "outputs": [],
   "source": [
    "def train(net, n_epoch, print_period, train_iter, test_iter):\n",
    "    net.initialize(mx.init.Xavier(), ctx=model_ctx)\n",
    "    net.hybridize()\n",
    "    trainer = gluon.Trainer(net.collect_params(), 'adam',\n",
    "                          {'learning_rate': .001})\n",
    "    training_loss = []\n",
    "    validation_loss = []\n",
    "    for epoch in tqdm_notebook(range(n_epoch), desc='epochs'):\n",
    "        epoch_loss = 0\n",
    "        epoch_val_loss = 0\n",
    "\n",
    "        n_batch_train = 0\n",
    "        for batch in train_iter:\n",
    "            n_batch_train += 1\n",
    "            data = batch[0].as_in_context(model_ctx).reshape(-1, 28 * 28)\n",
    "            with autograd.record():\n",
    "                loss = net(data)\n",
    "            loss.backward()\n",
    "            trainer.step(data.shape[0])\n",
    "            epoch_loss += np.mean(loss)\n",
    "\n",
    "        n_batch_val = 0\n",
    "        for batch in test_iter:\n",
    "            n_batch_val += 1\n",
    "            data = batch[0].as_in_context(model_ctx).reshape(-1, 28 * 28)\n",
    "            loss = net(data)\n",
    "            epoch_val_loss += np.mean(loss)\n",
    "\n",
    "        epoch_loss /= n_batch_train\n",
    "        epoch_val_loss /= n_batch_val\n",
    "\n",
    "        training_loss.append(epoch_loss)\n",
    "        validation_loss.append(epoch_val_loss)\n",
    "\n",
    "        if epoch % max(print_period, 1) == 0:\n",
    "            print('Epoch{}, Training loss {:.2f}, Validation loss {:.2f}'.format(\n",
    "              epoch, float(epoch_loss), float(epoch_val_loss)))"
   ]
  },
  {
   "cell_type": "code",
   "execution_count": 5,
   "metadata": {},
   "outputs": [
    {
     "name": "stderr",
     "output_type": "stream",
     "text": [
      "/home/ubuntu/anaconda3/lib/python3.7/site-packages/ipykernel_launcher.py:8: TqdmDeprecationWarning: This function will be removed in tqdm==5.0.0\n",
      "Please use `tqdm.notebook.tqdm` instead of `tqdm.tqdm_notebook`\n",
      "  \n"
     ]
    },
    {
     "data": {
      "application/vnd.jupyter.widget-view+json": {
       "model_id": "b1c9c543be774663bf79386703ad2a67",
       "version_major": 2,
       "version_minor": 0
      },
      "text/plain": [
       "HBox(children=(FloatProgress(value=0.0, description='epochs', max=50.0, style=ProgressStyle(description_width=…"
      ]
     },
     "metadata": {},
     "output_type": "display_data"
    },
    {
     "name": "stdout",
     "output_type": "stream",
     "text": [
      "Epoch0, Training loss 198.47, Validation loss 165.42\n",
      "Epoch5, Training loss 121.50, Validation loss 120.12\n",
      "Epoch10, Training loss 114.81, Validation loss 113.73\n",
      "Epoch15, Training loss 111.33, Validation loss 110.75\n",
      "Epoch20, Training loss 109.57, Validation loss 109.62\n",
      "Epoch25, Training loss 108.31, Validation loss 108.14\n",
      "Epoch30, Training loss 107.21, Validation loss 107.25\n",
      "Epoch35, Training loss 106.17, Validation loss 106.22\n",
      "Epoch40, Training loss 105.49, Validation loss 106.11\n",
      "Epoch45, Training loss 104.90, Validation loss 105.22\n",
      "\n",
      "Time elapsed: 378.67s\n"
     ]
    }
   ],
   "source": [
    "n_hidden = 128\n",
    "n_latent = 40\n",
    "n_layers = 3  # num of dense layers in encoder and decoder respectively\n",
    "n_output = 784\n",
    "batch_size = 128\n",
    "model_prefix = 'vae_gluon_{}d{}l{}h.params'.format(\n",
    "  n_latent, n_layers, n_hidden)\n",
    "net = VAE(n_hidden=n_hidden, n_latent=n_latent, n_layers=n_layers,\n",
    "        n_output=n_output)\n",
    "n_epoch = 50\n",
    "print_period = n_epoch // 10\n",
    "train_set, test_set = load_data(batch_size)\n",
    "start = time.time()\n",
    "train(net, n_epoch, print_period, train_set, test_set)\n",
    "end = time.time()\n",
    "print('Time elapsed: {:.2f}s'.format(end - start))"
   ]
  },
  {
   "cell_type": "code",
   "execution_count": 6,
   "metadata": {},
   "outputs": [],
   "source": [
    "qz_x = None\n",
    "for batch in test_set:\n",
    "    data = batch[0].as_in_context(model_ctx).reshape(-1, 28 * 28)\n",
    "    qz_x = net.encode(data)\n",
    "    break"
   ]
  },
  {
   "cell_type": "code",
   "execution_count": 51,
   "metadata": {},
   "outputs": [
    {
     "ename": "AttributeError",
     "evalue": "module 'matplotlib.pyplot' has no attribute 'set_xtitle'",
     "output_type": "error",
     "traceback": [
      "\u001b[0;31m---------------------------------------------------------------------------\u001b[0m",
      "\u001b[0;31mAttributeError\u001b[0m                            Traceback (most recent call last)",
      "\u001b[0;32m<ipython-input-51-7c251da9d6ae>\u001b[0m in \u001b[0;36m<module>\u001b[0;34m\u001b[0m\n\u001b[1;32m      4\u001b[0m \u001b[0mplt\u001b[0m\u001b[0;34m.\u001b[0m\u001b[0mbar\u001b[0m\u001b[0;34m(\u001b[0m\u001b[0mx\u001b[0m\u001b[0;34m,\u001b[0m \u001b[0mmgp\u001b[0m\u001b[0;34m.\u001b[0m\u001b[0mkl_divergence\u001b[0m\u001b[0;34m(\u001b[0m\u001b[0mqz_x\u001b[0m\u001b[0;34m,\u001b[0m \u001b[0mmgp\u001b[0m\u001b[0;34m.\u001b[0m\u001b[0mNormal\u001b[0m\u001b[0;34m(\u001b[0m\u001b[0;36m0\u001b[0m\u001b[0;34m,\u001b[0m \u001b[0;36m1\u001b[0m\u001b[0;34m)\u001b[0m\u001b[0;34m)\u001b[0m\u001b[0;34m[\u001b[0m\u001b[0;36m0\u001b[0m\u001b[0;34m]\u001b[0m\u001b[0;34m.\u001b[0m\u001b[0masnumpy\u001b[0m\u001b[0;34m(\u001b[0m\u001b[0;34m)\u001b[0m\u001b[0;34m,\u001b[0m \u001b[0malpha\u001b[0m\u001b[0;34m=\u001b[0m\u001b[0;36m0.3\u001b[0m\u001b[0;34m,\u001b[0m \u001b[0mlabel\u001b[0m\u001b[0;34m=\u001b[0m\u001b[0;34m'KL($Q_i$ || P)'\u001b[0m\u001b[0;34m)\u001b[0m\u001b[0;34m\u001b[0m\u001b[0;34m\u001b[0m\u001b[0m\n\u001b[1;32m      5\u001b[0m \u001b[0mplt\u001b[0m\u001b[0;34m.\u001b[0m\u001b[0mlegend\u001b[0m\u001b[0;34m(\u001b[0m\u001b[0;34m)\u001b[0m\u001b[0;34m\u001b[0m\u001b[0;34m\u001b[0m\u001b[0m\n\u001b[0;32m----> 6\u001b[0;31m \u001b[0mplt\u001b[0m\u001b[0;34m.\u001b[0m\u001b[0mset_xtitle\u001b[0m\u001b[0;34m(\u001b[0m\u001b[0;34m\"Dimension\"\u001b[0m\u001b[0;34m)\u001b[0m\u001b[0;34m\u001b[0m\u001b[0;34m\u001b[0m\u001b[0m\n\u001b[0m\u001b[1;32m      7\u001b[0m \u001b[0mplt\u001b[0m\u001b[0;34m.\u001b[0m\u001b[0msavefig\u001b[0m\u001b[0;34m(\u001b[0m\u001b[0;34m\"\"\u001b[0m\u001b[0;34m)\u001b[0m\u001b[0;34m\u001b[0m\u001b[0;34m\u001b[0m\u001b[0m\n",
      "\u001b[0;31mAttributeError\u001b[0m: module 'matplotlib.pyplot' has no attribute 'set_xtitle'"
     ]
    },
    {
     "data": {
      "image/png": "[encoded data removed]",
      "text/plain": [
       "<Figure size 720x432 with 1 Axes>"
      ]
     },
     "metadata": {
      "needs_background": "light"
     },
     "output_type": "display_data"
    }
   ],
   "source": [
    "x = np.arange(40).asnumpy()\n",
    "plt.figure(figsize=(10,6))\n",
    "plt.bar(x, (net.decoder[0].weight.data() ** 2).mean(0).asnumpy(), alpha=1.0, label='$L_2$ norm of decoder weights')\n",
    "plt.bar(x, mgp.kl_divergence(qz_x, mgp.Normal(0, 1))[0].asnumpy(), alpha=0.3, label='KL($Q_i$ || P)')\n",
    "plt.legend()\n",
    "plt.set_xtitle(\"Dimension\")\n",
    "plt.savefig(\"\")"
   ]
  }
 ],
 "metadata": {
  "kernelspec": {
   "display_name": "Python 3",
   "language": "python",
   "name": "python3"
  },
  "language_info": {
   "codemirror_mode": {
    "name": "ipython",
    "version": 3
   },
   "file_extension": ".py",
   "mimetype": "text/x-python",
   "name": "python",
   "nbconvert_exporter": "python",
   "pygments_lexer": "ipython3",
   "version": "3.7.3"
  }
 },
 "nbformat": 4,
 "nbformat_minor": 4
}
