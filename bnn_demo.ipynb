{
 "cells": [
  {
   "cell_type": "code",
   "execution_count": 2,
   "metadata": {},
   "outputs": [],
   "source": [
    "from tqdm import tqdm, tqdm_notebook\n",
    "from mxnet import np, npx\n",
    "import mxnet as mx\n",
    "from mxnet import nd, autograd, gluon\n",
    "from mxnet.gluon import nn\n",
    "import mxnet.gluon.probability as mgp\n",
    "from mxnet.gluon.probability import StochasticBlock, StochasticSequential\n",
    "import matplotlib\n",
    "import matplotlib.pyplot as plt\n",
    "from scipy import ndimage, misc\n",
    "\n",
    "npx.set_np()\n",
    "data_ctx = mx.cpu()\n",
    "model_ctx = mx.gpu(0)"
   ]
  },
  {
   "cell_type": "code",
   "execution_count": 3,
   "metadata": {},
   "outputs": [],
   "source": [
    "def toy_logistic_data(num_examples, input_size=2, weights_prior_stddev=5.0):\n",
    "    \"\"\"Generates synthetic data for binary classification.\n",
    "    Args:\n",
    "    num_examples: The number of samples to generate (scalar Python `int`).\n",
    "    input_size: The input space dimension (scalar Python `int`).\n",
    "    weights_prior_stddev: The prior standard deviation of the weight\n",
    "        vector. (scalar Python `float`).\n",
    "    Returns:\n",
    "    random_weights: Sampled weights as a Numpy `array` of shape\n",
    "        `[input_size]`.\n",
    "    random_bias: Sampled bias as a scalar Python `float`.\n",
    "    design_matrix: Points sampled uniformly from the cube `[-1,\n",
    "        1]^{input_size}`, as a Numpy `array` of shape `(num_examples,\n",
    "        input_size)`.\n",
    "    labels: Labels sampled from the logistic model `p(label=1) =\n",
    "        logistic(dot(features, random_weights) + random_bias)`, as a Numpy\n",
    "        `int32` `array` of shape `(num_examples, 1)`.\n",
    "    \"\"\"\n",
    "    random_weights = weights_prior_stddev * np.random.randn(input_size)\n",
    "    random_bias = np.random.randn()\n",
    "    design_matrix = np.random.rand(num_examples, input_size) * 2 - 1\n",
    "    logits = np.reshape(\n",
    "      np.dot(design_matrix, random_weights) + random_bias,\n",
    "      (-1, 1))\n",
    "    p_labels = 1. / (1 + np.exp(-logits))\n",
    "    labels = np.int32(p_labels > np.random.rand(num_examples, 1))\n",
    "    return random_weights, random_bias, np.float32(design_matrix), labels\n",
    "\n",
    "\n",
    "def load_data(batch_size):\n",
    "    \"\"\"\n",
    "    Load MNIST\n",
    "    \"\"\"\n",
    "    mnist_train = gluon.data.vision.MNIST(train=True)\n",
    "    mnist_test = gluon.data.vision.MNIST(train=False)\n",
    "    num_worker = 4\n",
    "    transformer = gluon.data.vision.transforms.ToTensor()\n",
    "    return (gluon.data.DataLoader(mnist_train.transform_first(transformer),\n",
    "                                batch_size, shuffle=True,\n",
    "                                num_workers=num_worker),\n",
    "          gluon.data.DataLoader(mnist_test.transform_first(transformer),\n",
    "                                batch_size, shuffle=False,\n",
    "                                num_workers=num_worker))"
   ]
  },
  {
   "cell_type": "markdown",
   "metadata": {},
   "source": [
    "Construct A Bayesian dense layer using local reparameterization trick"
   ]
  },
  {
   "cell_type": "code",
   "execution_count": 4,
   "metadata": {},
   "outputs": [],
   "source": [
    "class LocalReparamDense(StochasticBlock):\n",
    "    def __init__(self, in_features, out_features, activation=None, flatten=True, dtype='float32'):\n",
    "        super(LocalReparamDense, self).__init__()\n",
    "        self._flatten = flatten\n",
    "        self.qw_x = None\n",
    "        with self.name_scope():\n",
    "            self._in_features = in_features\n",
    "            self._out_features = out_features\n",
    "            # Parameter of weight\n",
    "            self.loc_w = self.params.get('loc_w', shape=(out_features, in_features),\n",
    "                                        dtype=dtype)\n",
    "            self.scale_w = self.params.get('scale_w', shape=(out_features, in_features),\n",
    "                                        dtype=dtype)\n",
    "            # Parameter of bias\n",
    "            self.bias = self.params.get('bias', shape=(out_features,),\n",
    "                                        dtype=dtype)\n",
    "            if activation is not None:\n",
    "                self.act = gluon.nn.Activation(activation, prefix=activation + '_')\n",
    "            else:\n",
    "                self.act = None\n",
    "\n",
    "    @StochasticBlock.collectLoss\n",
    "    def hybrid_forward(self, F, x, loc_w, scale_w, bias):\n",
    "        # We use `fc` operator for matrix multiplication.\n",
    "        fc = F.npx.fully_connected\n",
    "        # Directly acquire parameter for A = dot(x, W)\n",
    "        # with local reparameterization trick:\n",
    "        qa_loc = fc(x, loc_w, bias=None, no_bias=True, num_hidden=self._out_features,\n",
    "                    flatten=self._flatten)\n",
    "        qa_scale = F.np.sqrt(fc(x ** 2, scale_w ** 2, bias=None, no_bias=True,\n",
    "                      num_hidden=self._out_features, flatten=self._flatten))\n",
    "        self.qw_x = mgp.Normal(\n",
    "            loc=qa_loc,\n",
    "            scale=qa_scale\n",
    "        )\n",
    "        # KL(qw_x || px), where px ~ N(0, 1)\n",
    "        kl = mgp.kl_divergence(self.qw_x, mgp.Normal(0, 1)).sum(-1)\n",
    "        self.add_loss(kl)\n",
    "        # Sampling from the network\n",
    "        fc_samples = self.qw_x.sample() + bias\n",
    "        if self.act is not None:\n",
    "            out = self.act(fc_samples)\n",
    "        else:\n",
    "            out = fc_samples\n",
    "        return out"
   ]
  },
  {
   "cell_type": "markdown",
   "metadata": {},
   "source": [
    "## MNIST classfication with BNN"
   ]
  },
  {
   "cell_type": "code",
   "execution_count": 5,
   "metadata": {},
   "outputs": [],
   "source": [
    "def train(net, n_epoch, train_iter, test_iter, baseline=False):\n",
    "    trainer = gluon.Trainer(net.collect_params(), 'adam',\n",
    "                      {'learning_rate': .001})\n",
    "    training_loss = []\n",
    "    validation_loss = []\n",
    "    loss_func = gluon.loss.SoftmaxCrossEntropyLoss(from_logits=(not baseline))\n",
    "    metric = mx.metric.Accuracy()\n",
    "    for epoch in tqdm_notebook(range(n_epoch), desc='epochs'):\n",
    "        epoch_loss = 0\n",
    "        metric.reset()\n",
    "        for batch in train_iter:\n",
    "            data = batch[0].as_in_context(model_ctx).reshape(-1, 28 * 28)\n",
    "            label = batch[1].as_in_context(model_ctx)\n",
    "            kl_loss = 0\n",
    "            with autograd.record():\n",
    "                logits = net(data)\n",
    "                classification_loss = loss_func(logits, label)\n",
    "                # `baseline` model stands for deterministic MLP\n",
    "                if baseline:\n",
    "                    loss = classification_loss\n",
    "                else:\n",
    "                    for layer_kl_loss in net.losses:\n",
    "                        kl_loss = kl_loss + layer_kl_loss[0]\n",
    "                    loss = classification_loss + kl_loss / 256\n",
    "            loss.backward()\n",
    "            trainer.step(data.shape[0])\n",
    "            epoch_loss += np.mean(loss)\n",
    "        test_loss = 0\n",
    "        for batch in test_iter:\n",
    "            data = batch[0].as_in_context(model_ctx).reshape(-1, 28 * 28)\n",
    "            label = batch[1].as_in_context(model_ctx)\n",
    "            logits = net(data)\n",
    "            classification_loss = loss_func(logits, label)\n",
    "            test_loss += np.mean(classification_loss)\n",
    "            metric.update([label], [logits.as_nd_ndarray()])\n",
    "        name, acc = metric.get()\n",
    "        print('[Epoch %d] Training: %s=%f'%(epoch, name, acc))\n",
    "\n",
    "        "
   ]
  },
  {
   "cell_type": "code",
   "execution_count": 5,
   "metadata": {},
   "outputs": [],
   "source": [
    "mlp = nn.HybridSequential()\n",
    "mlp.add(nn.Dense(256, activation='relu'))\n",
    "mlp.add(nn.Dense(256, activation='relu'))\n",
    "mlp.add(nn.Dense(10))\n",
    "mlp.collect_params().initialize(ctx=model_ctx)\n",
    "mlp.hybridize()"
   ]
  },
  {
   "cell_type": "code",
   "execution_count": 8,
   "metadata": {},
   "outputs": [],
   "source": [
    "bnn = StochasticSequential()\n",
    "bnn.add(LocalReparamDense(784, 256, activation='relu'))\n",
    "bnn.add(LocalReparamDense(256, 256, activation='relu'))\n",
    "bnn.add(LocalReparamDense(256, 10))\n",
    "bnn.collect_params().initialize(ctx=model_ctx)\n",
    "bnn.hybridize()"
   ]
  },
  {
   "cell_type": "code",
   "execution_count": 7,
   "metadata": {},
   "outputs": [
    {
     "name": "stderr",
     "output_type": "stream",
     "text": [
      "/home/ubuntu/anaconda3/lib/python3.7/site-packages/ipykernel_launcher.py:8: TqdmDeprecationWarning: This function will be removed in tqdm==5.0.0\n",
      "Please use `tqdm.notebook.tqdm` instead of `tqdm.tqdm_notebook`\n",
      "  \n"
     ]
    },
    {
     "data": {
      "application/vnd.jupyter.widget-view+json": {
       "model_id": "eca1dd19ca7840d6a2a5e92f79cabb20",
       "version_major": 2,
       "version_minor": 0
      },
      "text/plain": [
       "HBox(children=(FloatProgress(value=0.0, description='epochs', max=50.0, style=ProgressStyle(description_width=…"
      ]
     },
     "metadata": {},
     "output_type": "display_data"
    },
    {
     "name": "stdout",
     "output_type": "stream",
     "text": [
      "[Epoch 0] Training: accuracy=0.947200\n",
      "[Epoch 1] Training: accuracy=0.965500\n",
      "[Epoch 2] Training: accuracy=0.971700\n",
      "[Epoch 3] Training: accuracy=0.974100\n",
      "[Epoch 4] Training: accuracy=0.977400\n",
      "[Epoch 5] Training: accuracy=0.977900\n",
      "[Epoch 6] Training: accuracy=0.979500\n",
      "[Epoch 7] Training: accuracy=0.979000\n",
      "[Epoch 8] Training: accuracy=0.978500\n",
      "[Epoch 9] Training: accuracy=0.980100\n",
      "[Epoch 10] Training: accuracy=0.980200\n",
      "[Epoch 11] Training: accuracy=0.980700\n",
      "[Epoch 12] Training: accuracy=0.980900\n",
      "[Epoch 13] Training: accuracy=0.979300\n",
      "[Epoch 14] Training: accuracy=0.979400\n",
      "[Epoch 15] Training: accuracy=0.980200\n",
      "[Epoch 16] Training: accuracy=0.980300\n",
      "[Epoch 17] Training: accuracy=0.979500\n",
      "[Epoch 18] Training: accuracy=0.978100\n",
      "[Epoch 19] Training: accuracy=0.979300\n",
      "[Epoch 20] Training: accuracy=0.980500\n",
      "[Epoch 21] Training: accuracy=0.980300\n",
      "[Epoch 22] Training: accuracy=0.982500\n",
      "[Epoch 23] Training: accuracy=0.981400\n",
      "[Epoch 24] Training: accuracy=0.979900\n",
      "[Epoch 25] Training: accuracy=0.975200\n",
      "[Epoch 26] Training: accuracy=0.978700\n",
      "[Epoch 27] Training: accuracy=0.981700\n",
      "[Epoch 28] Training: accuracy=0.977800\n",
      "[Epoch 29] Training: accuracy=0.981800\n",
      "[Epoch 30] Training: accuracy=0.982800\n",
      "[Epoch 31] Training: accuracy=0.979700\n",
      "[Epoch 32] Training: accuracy=0.980400\n",
      "[Epoch 33] Training: accuracy=0.980500\n",
      "[Epoch 34] Training: accuracy=0.978500\n",
      "[Epoch 35] Training: accuracy=0.980600\n",
      "[Epoch 36] Training: accuracy=0.982100\n",
      "[Epoch 37] Training: accuracy=0.981500\n",
      "[Epoch 38] Training: accuracy=0.983800\n",
      "[Epoch 39] Training: accuracy=0.984000\n",
      "[Epoch 40] Training: accuracy=0.984100\n",
      "[Epoch 41] Training: accuracy=0.984300\n",
      "[Epoch 42] Training: accuracy=0.984200\n",
      "[Epoch 43] Training: accuracy=0.984300\n",
      "[Epoch 44] Training: accuracy=0.984300\n",
      "[Epoch 45] Training: accuracy=0.984300\n",
      "[Epoch 46] Training: accuracy=0.984500\n",
      "[Epoch 47] Training: accuracy=0.984400\n",
      "[Epoch 48] Training: accuracy=0.984500\n",
      "[Epoch 49] Training: accuracy=0.984500\n",
      "\n",
      "CPU times: user 1min 3s, sys: 14.5 s, total: 1min 18s\n",
      "Wall time: 1min 55s\n"
     ]
    }
   ],
   "source": [
    "%%time\n",
    "batch_size = 256\n",
    "train_set, test_set = load_data(batch_size)\n",
    "train(mlp, 50, train_set, test_set, baseline=True)"
   ]
  },
  {
   "cell_type": "code",
   "execution_count": 9,
   "metadata": {},
   "outputs": [
    {
     "name": "stderr",
     "output_type": "stream",
     "text": [
      "/home/ubuntu/anaconda3/lib/python3.7/site-packages/ipykernel_launcher.py:8: TqdmDeprecationWarning: This function will be removed in tqdm==5.0.0\n",
      "Please use `tqdm.notebook.tqdm` instead of `tqdm.tqdm_notebook`\n",
      "  \n"
     ]
    },
    {
     "data": {
      "application/vnd.jupyter.widget-view+json": {
       "model_id": "e52a2a03347e4a22ae1c66cb4b3077f7",
       "version_major": 2,
       "version_minor": 0
      },
      "text/plain": [
       "HBox(children=(FloatProgress(value=0.0, description='epochs', max=50.0, style=ProgressStyle(description_width=…"
      ]
     },
     "metadata": {},
     "output_type": "display_data"
    },
    {
     "name": "stdout",
     "output_type": "stream",
     "text": [
      "[Epoch 0] Training: accuracy=0.913800\n",
      "[Epoch 1] Training: accuracy=0.949400\n",
      "[Epoch 2] Training: accuracy=0.961700\n",
      "[Epoch 3] Training: accuracy=0.968000\n",
      "[Epoch 4] Training: accuracy=0.972100\n",
      "[Epoch 5] Training: accuracy=0.971600\n",
      "[Epoch 6] Training: accuracy=0.975100\n",
      "[Epoch 7] Training: accuracy=0.976400\n",
      "[Epoch 8] Training: accuracy=0.975400\n",
      "[Epoch 9] Training: accuracy=0.977600\n",
      "[Epoch 10] Training: accuracy=0.978100\n",
      "[Epoch 11] Training: accuracy=0.977800\n",
      "[Epoch 12] Training: accuracy=0.977900\n",
      "[Epoch 13] Training: accuracy=0.979400\n",
      "[Epoch 14] Training: accuracy=0.978900\n",
      "[Epoch 15] Training: accuracy=0.978600\n",
      "[Epoch 16] Training: accuracy=0.980200\n",
      "[Epoch 17] Training: accuracy=0.979800\n",
      "[Epoch 18] Training: accuracy=0.979700\n",
      "[Epoch 19] Training: accuracy=0.980700\n",
      "[Epoch 20] Training: accuracy=0.980100\n",
      "[Epoch 21] Training: accuracy=0.979600\n",
      "[Epoch 22] Training: accuracy=0.980500\n",
      "[Epoch 23] Training: accuracy=0.979000\n",
      "[Epoch 24] Training: accuracy=0.979500\n",
      "[Epoch 25] Training: accuracy=0.980400\n",
      "[Epoch 26] Training: accuracy=0.980600\n",
      "[Epoch 27] Training: accuracy=0.979600\n",
      "[Epoch 28] Training: accuracy=0.980500\n",
      "[Epoch 29] Training: accuracy=0.979700\n",
      "[Epoch 30] Training: accuracy=0.979000\n",
      "[Epoch 31] Training: accuracy=0.980600\n",
      "[Epoch 32] Training: accuracy=0.979900\n",
      "[Epoch 33] Training: accuracy=0.980500\n",
      "[Epoch 34] Training: accuracy=0.978600\n",
      "[Epoch 35] Training: accuracy=0.978400\n",
      "[Epoch 36] Training: accuracy=0.978500\n",
      "[Epoch 37] Training: accuracy=0.978800\n",
      "[Epoch 38] Training: accuracy=0.979200\n",
      "[Epoch 39] Training: accuracy=0.978900\n",
      "[Epoch 40] Training: accuracy=0.979200\n",
      "[Epoch 41] Training: accuracy=0.978800\n",
      "[Epoch 42] Training: accuracy=0.979100\n",
      "[Epoch 43] Training: accuracy=0.977900\n",
      "[Epoch 44] Training: accuracy=0.978400\n",
      "[Epoch 45] Training: accuracy=0.979200\n",
      "[Epoch 46] Training: accuracy=0.977800\n",
      "[Epoch 47] Training: accuracy=0.976700\n",
      "[Epoch 48] Training: accuracy=0.978300\n",
      "[Epoch 49] Training: accuracy=0.978300\n",
      "\n",
      "CPU times: user 1min 43s, sys: 14.5 s, total: 1min 58s\n",
      "Wall time: 1min 55s\n"
     ]
    }
   ],
   "source": [
    "%%time\n",
    "batch_size = 256\n",
    "train_set, test_set = load_data(batch_size)\n",
    "train(bnn, 50, train_set, test_set)"
   ]
  },
  {
   "cell_type": "code",
   "execution_count": 10,
   "metadata": {},
   "outputs": [
    {
     "name": "stderr",
     "output_type": "stream",
     "text": [
      "/home/ubuntu/anaconda3/lib/python3.7/site-packages/ipykernel_launcher.py:8: TqdmDeprecationWarning: This function will be removed in tqdm==5.0.0\n",
      "Please use `tqdm.notebook.tqdm` instead of `tqdm.tqdm_notebook`\n",
      "  \n"
     ]
    },
    {
     "data": {
      "application/vnd.jupyter.widget-view+json": {
       "model_id": "572b4e1c05a246a085f5bb5fa86b21df",
       "version_major": 2,
       "version_minor": 0
      },
      "text/plain": [
       "HBox(children=(FloatProgress(value=0.0, description='epochs', max=50.0, style=ProgressStyle(description_width=…"
      ]
     },
     "metadata": {},
     "output_type": "display_data"
    },
    {
     "name": "stdout",
     "output_type": "stream",
     "text": [
      "[Epoch 0] Training: accuracy=0.915500\n",
      "[Epoch 1] Training: accuracy=0.947000\n",
      "[Epoch 2] Training: accuracy=0.959000\n",
      "[Epoch 3] Training: accuracy=0.966700\n",
      "[Epoch 4] Training: accuracy=0.970200\n",
      "[Epoch 5] Training: accuracy=0.973900\n",
      "[Epoch 6] Training: accuracy=0.973800\n",
      "[Epoch 7] Training: accuracy=0.975300\n",
      "[Epoch 8] Training: accuracy=0.976300\n",
      "[Epoch 9] Training: accuracy=0.976700\n",
      "[Epoch 10] Training: accuracy=0.977900\n",
      "[Epoch 11] Training: accuracy=0.978600\n",
      "[Epoch 12] Training: accuracy=0.979500\n",
      "[Epoch 13] Training: accuracy=0.978800\n",
      "[Epoch 14] Training: accuracy=0.978500\n",
      "[Epoch 15] Training: accuracy=0.980900\n",
      "[Epoch 16] Training: accuracy=0.980700\n",
      "[Epoch 17] Training: accuracy=0.979300\n",
      "[Epoch 18] Training: accuracy=0.980800\n",
      "[Epoch 19] Training: accuracy=0.980600\n",
      "[Epoch 20] Training: accuracy=0.980600\n",
      "[Epoch 21] Training: accuracy=0.978800\n",
      "[Epoch 22] Training: accuracy=0.980200\n",
      "[Epoch 23] Training: accuracy=0.981700\n",
      "[Epoch 24] Training: accuracy=0.979600\n",
      "[Epoch 25] Training: accuracy=0.979300\n",
      "[Epoch 26] Training: accuracy=0.980600\n",
      "[Epoch 27] Training: accuracy=0.980800\n",
      "[Epoch 28] Training: accuracy=0.980400\n",
      "[Epoch 29] Training: accuracy=0.980700\n",
      "[Epoch 30] Training: accuracy=0.978800\n",
      "[Epoch 31] Training: accuracy=0.978600\n",
      "[Epoch 32] Training: accuracy=0.979400\n",
      "[Epoch 33] Training: accuracy=0.977700\n",
      "[Epoch 34] Training: accuracy=0.979300\n",
      "[Epoch 35] Training: accuracy=0.978600\n",
      "[Epoch 36] Training: accuracy=0.978800\n",
      "[Epoch 37] Training: accuracy=0.980100\n",
      "[Epoch 38] Training: accuracy=0.979900\n",
      "[Epoch 39] Training: accuracy=0.979500\n",
      "[Epoch 40] Training: accuracy=0.980900\n",
      "[Epoch 41] Training: accuracy=0.978500\n",
      "[Epoch 42] Training: accuracy=0.979500\n",
      "[Epoch 43] Training: accuracy=0.979500\n",
      "[Epoch 44] Training: accuracy=0.979700\n",
      "[Epoch 45] Training: accuracy=0.978300\n",
      "[Epoch 46] Training: accuracy=0.979800\n",
      "[Epoch 47] Training: accuracy=0.978900\n",
      "[Epoch 48] Training: accuracy=0.979200\n",
      "[Epoch 49] Training: accuracy=0.979400\n",
      "\n",
      "CPU times: user 3min 6s, sys: 23.5 s, total: 3min 30s\n",
      "Wall time: 2min 34s\n"
     ]
    }
   ],
   "source": [
    "%%time\n",
    "batch_size = 256\n",
    "train_set, test_set = load_data(batch_size)\n",
    "train(bnn, 50, train_set, test_set)"
   ]
  },
  {
   "cell_type": "markdown",
   "metadata": {},
   "source": [
    "Next, we perform classfication on white noise to demonstrate the advantages of a Bayesian neural network."
   ]
  },
  {
   "cell_type": "code",
   "execution_count": 116,
   "metadata": {},
   "outputs": [
    {
     "data": {
      "text/plain": [
       "<matplotlib.image.AxesImage at 0x7f0fc9dd3748>"
      ]
     },
     "execution_count": 116,
     "metadata": {},
     "output_type": "execute_result"
    },
    {
     "data": {
      "image/png": "[encoded data removed]",
      "text/plain": [
       "<Figure size 432x288 with 1 Axes>"
      ]
     },
     "metadata": {
      "needs_background": "light"
     },
     "output_type": "display_data"
    }
   ],
   "source": [
    "# Generate random noise\n",
    "x = np.random.randn(28, 28)\n",
    "plt.imshow(x.asnumpy(), cmap='gray')"
   ]
  },
  {
   "cell_type": "code",
   "execution_count": 117,
   "metadata": {},
   "outputs": [],
   "source": [
    "num_samples = 100\n",
    "bnn_prediction = npx.softmax(bnn(np.repeat(np.expand_dims(x, 0), 100, 0).as_in_context(model_ctx))).mean(0).asnumpy()\n",
    "mlp_prediction = npx.softmax(mlp(np.repeat(np.expand_dims(x, 0), 100, 0).as_in_context(model_ctx))).mean(0).asnumpy()"
   ]
  },
  {
   "cell_type": "code",
   "execution_count": 120,
   "metadata": {},
   "outputs": [
    {
     "data": {
      "text/plain": [
       "<matplotlib.legend.Legend at 0x7f0fc9c73c50>"
      ]
     },
     "execution_count": 120,
     "metadata": {},
     "output_type": "execute_result"
    },
    {
     "data": {
      "image/png": "[encoded data removed]",
      "text/plain": [
       "<Figure size 432x288 with 1 Axes>"
      ]
     },
     "metadata": {
      "needs_background": "light"
     },
     "output_type": "display_data"
    }
   ],
   "source": [
    "labels = [str(i) for i in range(10)]\n",
    "x = np.arange(len(labels)).asnumpy()  # the label locations\n",
    "width = 0.35  # the width of the bars\n",
    "\n",
    "fig, ax = plt.subplots()\n",
    "rects1 = ax.bar(x - width/2, bnn_prediction, width, label='BNN prediction')\n",
    "rects2 = ax.bar(x + width/2, mlp_prediction, width, label='MLP prediction')\n",
    "\n",
    "ax.set_xticks(x)\n",
    "ax.set_xticklabels(labels)\n",
    "ax.legend()"
   ]
  }
 ],
 "metadata": {
  "kernelspec": {
   "display_name": "Python 3",
   "language": "python",
   "name": "python3"
  },
  "language_info": {
   "codemirror_mode": {
    "name": "ipython",
    "version": 3
   },
   "file_extension": ".py",
   "mimetype": "text/x-python",
   "name": "python",
   "nbconvert_exporter": "python",
   "pygments_lexer": "ipython3",
   "version": "3.7.3"
  }
 },
 "nbformat": 4,
 "nbformat_minor": 4
}
