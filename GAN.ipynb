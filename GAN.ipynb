{
 "cells": [
  {
   "cell_type": "code",
   "execution_count": 273,
   "metadata": {},
   "outputs": [],
   "source": [
    "import mxnet as mx\n",
    "from tqdm import tqdm, tqdm_notebook\n",
    "from mxnet import np, npx\n",
    "import mxnet as mx\n",
    "from mxnet import init\n",
    "from mxnet import nd, autograd, gluon\n",
    "from mxnet.gluon import nn\n",
    "import mxnet.gluon.probability as mgp\n",
    "from mxnet.gluon.probability import StochasticBlock\n",
    "import numpy as onp\n",
    "import matplotlib\n",
    "import matplotlib.pyplot as plt\n",
    "import seaborn as sns\n",
    "from matplotlib import animation, rc\n",
    "from IPython.display import HTML\n",
    "import celluloid\n",
    "from sklearn.datasets import make_moons\n",
    "npx.set_np()\n",
    "data_ctx = mx.cpu()\n",
    "model_ctx = mx.gpu(0)"
   ]
  },
  {
   "cell_type": "code",
   "execution_count": 36,
   "metadata": {},
   "outputs": [],
   "source": [
    "def load_array(data_arrays, batch_size, is_train=True):\n",
    "    \"\"\"Construct a Gluon data loader\"\"\"\n",
    "    dataset = gluon.data.ArrayDataset(*data_arrays)\n",
    "    return gluon.data.DataLoader(dataset, batch_size, shuffle=is_train)"
   ]
  },
  {
   "cell_type": "code",
   "execution_count": 331,
   "metadata": {},
   "outputs": [],
   "source": [
    "class Generator(mgp.Transformation, gluon.HybridBlock):\n",
    "    def __init__(self, n_hidden=10, n_layers=0, n_output=2, act_type='tanh', **kwargs):\n",
    "        super(Generator, self).__init__(**kwargs)\n",
    "        with self.name_scope():\n",
    "            self.net = nn.HybridSequential(prefix='encoder')\n",
    "            for _ in range(n_layers):\n",
    "                self.net.add(nn.Dense(n_hidden, activation=act_type))\n",
    "            self.net.add(nn.Dense(n_output, activation=None))\n",
    "    \n",
    "    def _forward_compute(self, x):\n",
    "        F = self.F\n",
    "        return self.net(x)\n",
    "    "
   ]
  },
  {
   "cell_type": "code",
   "execution_count": 302,
   "metadata": {},
   "outputs": [
    {
     "name": "stdout",
     "output_type": "stream",
     "text": [
      "\n"
     ]
    },
    {
     "data": {
      "text/plain": [
       "<matplotlib.collections.PathCollection at 0x7fbc11a0b278>"
      ]
     },
     "execution_count": 302,
     "metadata": {},
     "output_type": "execute_result"
    },
    {
     "data": {
      "image/png": "[encoded data removed]",
      "text/plain": [
       "<Figure size 432x288 with 1 Axes>"
      ]
     },
     "metadata": {
      "needs_background": "light"
     },
     "output_type": "display_data"
    }
   ],
   "source": [
    "X = np.array(make_moons(2000, noise=0.05)[0], dtype='float32')\n",
    "data = X\n",
    "plt.scatter(data.asnumpy()[:, 0], data.asnumpy()[:, 1])"
   ]
  },
  {
   "cell_type": "code",
   "execution_count": 327,
   "metadata": {},
   "outputs": [
    {
     "data": {
      "text/plain": [
       "<matplotlib.collections.PathCollection at 0x7fbc116185f8>"
      ]
     },
     "execution_count": 327,
     "metadata": {},
     "output_type": "execute_result"
    },
    {
     "data": {
      "image/png": "[encoded data removed]",
      "text/plain": [
       "<Figure size 432x288 with 1 Axes>"
      ]
     },
     "metadata": {
      "needs_background": "light"
     },
     "output_type": "display_data"
    }
   ],
   "source": [
    "X = np.random.normal(size=(5000, 2))\n",
    "A = np.array([[1, 2], [-0.1, 0.5]])\n",
    "b = np.array([1, 2])\n",
    "data = X.dot(A) + b\n",
    "plt.scatter(data.asnumpy()[:, 0], data.asnumpy()[:, 1])"
   ]
  },
  {
   "cell_type": "code",
   "execution_count": 361,
   "metadata": {},
   "outputs": [],
   "source": [
    "lr_D, lr_G, latent_dim, num_epochs = 0.05, 0.005, 2, 10\n",
    "batch_size = 100\n",
    "\n",
    "Discriminator = nn.HybridSequential()\n",
    "Discriminator.add(nn.Dense(5, activation='tanh'),\n",
    "          nn.Dense(3, activation='tanh'),\n",
    "          nn.Dense(1))\n",
    "Discriminator.hybridize()\n",
    "\n",
    "f = Generator()\n",
    "f.hybridize()\n",
    "z = mgp.Normal(np.zeros((latent_dim,), ctx=model_ctx), np.ones((latent_dim,), ctx=model_ctx))\n",
    "gz = mgp.TransformedDistribution(z, f)\n",
    "\n",
    "data_iter = load_array((data,), batch_size)\n",
    "\n",
    "f.initialize(force_reinit=True, ctx=model_ctx)\n",
    "Discriminator.initialize(force_reinit=True, ctx=model_ctx)\n",
    "trainer_G = gluon.Trainer(f.collect_params(),\n",
    "                              'adam', {'learning_rate': lr_D})\n",
    "trainer_D = gluon.Trainer(Discriminator.collect_params(),\n",
    "                              'adam', {'learning_rate': lr_D})"
   ]
  },
  {
   "cell_type": "code",
   "execution_count": null,
   "metadata": {},
   "outputs": [
    {
     "name": "stderr",
     "output_type": "stream",
     "text": [
      "/home/ubuntu/anaconda3/lib/python3.7/site-packages/ipykernel_launcher.py:1: TqdmDeprecationWarning: This function will be removed in tqdm==5.0.0\n",
      "Please use `tqdm.notebook.tqdm` instead of `tqdm.tqdm_notebook`\n",
      "  \"\"\"Entry point for launching an IPython kernel.\n"
     ]
    },
    {
     "data": {
      "application/vnd.jupyter.widget-view+json": {
       "model_id": "f68d07b53cbf48c6be98afcea5cbb307",
       "version_major": 2,
       "version_minor": 0
      },
      "text/plain": [
       "HBox(children=(FloatProgress(value=0.0, max=10.0), HTML(value='')))"
      ]
     },
     "metadata": {},
     "output_type": "display_data"
    }
   ],
   "source": [
    "for epoch in tqdm_notebook(range(num_epochs)):\n",
    "    for X in data_iter:\n",
    "        with autograd.record():\n",
    "            fake_data = gz.sample((batch_size, 2))\n",
    "            logits_real = Discriminator(X.as_in_ctx(model_ctx))\n",
    "            logits_fake = Discriminator(fake_data)\n",
    "            label_real = mgp.Bernoulli(logit=logits_real)\n",
    "            label_fake = mgp.Bernoulli(logit=logits_fake)\n",
    "            loss_d = -(label_real.log_prob(np.ones_like(logits_real)) + \n",
    "                       label_fake.log_prob(np.zeros_like(logits_fake))) / 2\n",
    "            loss_g = -(label_fake.log_prob(np.ones_like(logits_fake)))\n",
    "        loss_d.backward(retain_graph=True)\n",
    "        trainer_D.step(batch_size)\n",
    "        loss_g.backward(retain_graph=True)\n",
    "        trainer_G.step(batch_size)"
   ]
  },
  {
   "cell_type": "code",
   "execution_count": 359,
   "metadata": {},
   "outputs": [
    {
     "name": "stderr",
     "output_type": "stream",
     "text": [
      "/home/ubuntu/anaconda3/lib/python3.7/site-packages/ipykernel_launcher.py:1: TqdmDeprecationWarning: This function will be removed in tqdm==5.0.0\n",
      "Please use `tqdm.notebook.tqdm` instead of `tqdm.tqdm_notebook`\n",
      "  \"\"\"Entry point for launching an IPython kernel.\n"
     ]
    },
    {
     "data": {
      "application/vnd.jupyter.widget-view+json": {
       "model_id": "8831bcd94bf2467a9eac5024e20e0e98",
       "version_major": 2,
       "version_minor": 0
      },
      "text/plain": [
       "HBox(children=(FloatProgress(value=0.0, max=8.0), HTML(value='')))"
      ]
     },
     "metadata": {},
     "output_type": "display_data"
    },
    {
     "name": "stdout",
     "output_type": "stream",
     "text": [
      "\n"
     ]
    }
   ],
   "source": [
    "for epoch in tqdm_notebook(range(num_epochs)):\n",
    "    for X in data_iter:\n",
    "        # Discriminator\n",
    "        with autograd.record():\n",
    "            fake_data = gz.sample((batch_size, latent_dim)).detach()\n",
    "            logits_real = Discriminator(X.as_in_ctx(model_ctx))\n",
    "            logits_fake = Discriminator(fake_data)\n",
    "            label_real = mgp.Bernoulli(logit=logits_real)\n",
    "            label_fake = mgp.Bernoulli(logit=logits_fake)\n",
    "            loss_d = -(label_real.log_prob(np.ones_like(logits_real)) + \n",
    "                       label_fake.log_prob(np.zeros_like(logits_fake))) / 2\n",
    "        loss_d.backward()\n",
    "        trainer_D.step(batch_size)\n",
    "        # Generator\n",
    "        with autograd.record():\n",
    "            fake_data = gz.sample((batch_size, latent_dim))\n",
    "            logits_fake = Discriminator(fake_data)\n",
    "            label_fake = mgp.Bernoulli(logit=logits_fake)\n",
    "            loss_g = -(label_fake.log_prob(np.ones_like(logits_fake)))\n",
    "        loss_g.backward()\n",
    "        trainer_G.step(batch_size)"
   ]
  },
  {
   "cell_type": "code",
   "execution_count": 360,
   "metadata": {},
   "outputs": [
    {
     "data": {
      "text/plain": [
       "<matplotlib.collections.PathCollection at 0x7fbc10fa4710>"
      ]
     },
     "execution_count": 360,
     "metadata": {},
     "output_type": "execute_result"
    },
    {
     "data": {
      "image/png": "[encoded data removed]",
      "text/plain": [
       "<Figure size 432x288 with 1 Axes>"
      ]
     },
     "metadata": {
      "needs_background": "light"
     },
     "output_type": "display_data"
    }
   ],
   "source": [
    "fake_data = gz.sample((1000, 2))\n",
    "plt.scatter(fake_data.asnumpy()[:, 0], fake_data.asnumpy()[:, 1])"
   ]
  }
 ],
 "metadata": {
  "kernelspec": {
   "display_name": "Python 3",
   "language": "python",
   "name": "python3"
  },
  "language_info": {
   "codemirror_mode": {
    "name": "ipython",
    "version": 3
   },
   "file_extension": ".py",
   "mimetype": "text/x-python",
   "name": "python",
   "nbconvert_exporter": "python",
   "pygments_lexer": "ipython3",
   "version": "3.7.3"
  }
 },
 "nbformat": 4,
 "nbformat_minor": 4
}
