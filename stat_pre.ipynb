{
 "cells": [
  {
   "cell_type": "code",
   "execution_count": 85,
   "metadata": {},
   "outputs": [],
   "source": [
    "import numpy as np\n",
    "import pandas as pd\n",
    "import scipy.stats as ss\n",
    "import matplotlib.pyplot as plt\n",
    "import statsmodels.api as sm\n",
    "from statsmodels.formula.api import ols\n",
    "from statsmodels.stats.multicomp import (pairwise_tukeyhsd, MultiComparison)\n",
    "import scikit_posthocs as sp"
   ]
  },
  {
   "cell_type": "code",
   "execution_count": 105,
   "metadata": {},
   "outputs": [
    {
     "data": {
      "text/html": [
       "<div>\n",
       "<style scoped>\n",
       "    .dataframe tbody tr th:only-of-type {\n",
       "        vertical-align: middle;\n",
       "    }\n",
       "\n",
       "    .dataframe tbody tr th {\n",
       "        vertical-align: top;\n",
       "    }\n",
       "\n",
       "    .dataframe thead th {\n",
       "        text-align: right;\n",
       "    }\n",
       "</style>\n",
       "<table border=\"1\" class=\"dataframe\">\n",
       "  <thead>\n",
       "    <tr style=\"text-align: right;\">\n",
       "      <th></th>\n",
       "      <th>Ratings</th>\n",
       "      <th>Sweetener</th>\n",
       "      <th>MilkFat</th>\n",
       "      <th>Air</th>\n",
       "    </tr>\n",
       "  </thead>\n",
       "  <tbody>\n",
       "    <tr>\n",
       "      <th>0</th>\n",
       "      <td>23</td>\n",
       "      <td>0.12</td>\n",
       "      <td>0.1</td>\n",
       "      <td>0.05</td>\n",
       "    </tr>\n",
       "    <tr>\n",
       "      <th>1</th>\n",
       "      <td>24</td>\n",
       "      <td>0.12</td>\n",
       "      <td>0.1</td>\n",
       "      <td>0.05</td>\n",
       "    </tr>\n",
       "    <tr>\n",
       "      <th>2</th>\n",
       "      <td>25</td>\n",
       "      <td>0.12</td>\n",
       "      <td>0.1</td>\n",
       "      <td>0.05</td>\n",
       "    </tr>\n",
       "    <tr>\n",
       "      <th>3</th>\n",
       "      <td>36</td>\n",
       "      <td>0.12</td>\n",
       "      <td>0.1</td>\n",
       "      <td>0.10</td>\n",
       "    </tr>\n",
       "    <tr>\n",
       "      <th>4</th>\n",
       "      <td>35</td>\n",
       "      <td>0.12</td>\n",
       "      <td>0.1</td>\n",
       "      <td>0.10</td>\n",
       "    </tr>\n",
       "  </tbody>\n",
       "</table>\n",
       "</div>"
      ],
      "text/plain": [
       "   Ratings  Sweetener  MilkFat   Air\n",
       "0       23       0.12      0.1  0.05\n",
       "1       24       0.12      0.1  0.05\n",
       "2       25       0.12      0.1  0.05\n",
       "3       36       0.12      0.1  0.10\n",
       "4       35       0.12      0.1  0.10"
      ]
     },
     "execution_count": 105,
     "metadata": {},
     "output_type": "execute_result"
    }
   ],
   "source": [
    "data = pd.read_csv(\"./ex14-11.txt\")\n",
    "data.columns = ['Ratings', 'Sweetener', 'MilkFat', 'Air']\n",
    "data.head()"
   ]
  },
  {
   "cell_type": "code",
   "execution_count": 88,
   "metadata": {},
   "outputs": [],
   "source": [
    "model_str = (('Ratings ~ C({0}) + C({1}) + C({2}) + ' +\n",
    "            'C({0}):C({1}) + C({0}):C({2}) + C({1}):C({2}) + C({0}):C({1}):C({2})').\n",
    "            format('Sweetener', 'MilkFat', 'Air'))"
   ]
  },
  {
   "cell_type": "code",
   "execution_count": 89,
   "metadata": {},
   "outputs": [
    {
     "data": {
      "text/plain": [
       "'Ratings ~ C(Sweetener) + C(MilkFat) + C(Air) + C(Sweetener):C(MilkFat) + C(Sweetener):C(Air) + C(MilkFat):C(Air) + C(Sweetener):C(MilkFat):C(Air)'"
      ]
     },
     "execution_count": 89,
     "metadata": {},
     "output_type": "execute_result"
    }
   ],
   "source": [
    "model_str"
   ]
  },
  {
   "cell_type": "code",
   "execution_count": 101,
   "metadata": {},
   "outputs": [
    {
     "name": "stdout",
     "output_type": "stream",
     "text": [
      "Intercept                                                 24.000000\n",
      "C(Sweetener)[T.0.16]                                       1.000000\n",
      "C(MilkFat)[T.0.12]                                         3.000000\n",
      "C(MilkFat)[T.0.15]                                         6.666667\n",
      "C(Air)[T.0.1]                                             11.666667\n",
      "C(Air)[T.0.15]                                             2.333333\n",
      "C(Sweetener)[T.0.16]:C(MilkFat)[T.0.12]                    8.333333\n",
      "C(Sweetener)[T.0.16]:C(MilkFat)[T.0.15]                    4.666667\n",
      "C(Sweetener)[T.0.16]:C(Air)[T.0.1]                         0.333333\n",
      "C(Sweetener)[T.0.16]:C(Air)[T.0.15]                       -0.666667\n",
      "C(MilkFat)[T.0.12]:C(Air)[T.0.1]                          -1.666667\n",
      "C(MilkFat)[T.0.15]:C(Air)[T.0.1]                          -8.333333\n",
      "C(MilkFat)[T.0.12]:C(Air)[T.0.15]                          5.333333\n",
      "C(MilkFat)[T.0.15]:C(Air)[T.0.15]                         -7.000000\n",
      "C(Sweetener)[T.0.16]:C(MilkFat)[T.0.12]:C(Air)[T.0.1]    -10.666667\n",
      "C(Sweetener)[T.0.16]:C(MilkFat)[T.0.15]:C(Air)[T.0.1]     -6.333333\n",
      "C(Sweetener)[T.0.16]:C(MilkFat)[T.0.12]:C(Air)[T.0.15]    -7.666667\n",
      "C(Sweetener)[T.0.16]:C(MilkFat)[T.0.15]:C(Air)[T.0.15]    -5.000000\n",
      "dtype: float64\n"
     ]
    }
   ],
   "source": [
    "from statsmodels.formula.api import ols\n",
    "model = ols(model_str, data=data).fit()\n",
    "print(model.params)"
   ]
  },
  {
   "cell_type": "code",
   "execution_count": 109,
   "metadata": {},
   "outputs": [
    {
     "data": {
      "text/html": [
       "<div>\n",
       "<style scoped>\n",
       "    .dataframe tbody tr th:only-of-type {\n",
       "        vertical-align: middle;\n",
       "    }\n",
       "\n",
       "    .dataframe tbody tr th {\n",
       "        vertical-align: top;\n",
       "    }\n",
       "\n",
       "    .dataframe thead th {\n",
       "        text-align: right;\n",
       "    }\n",
       "</style>\n",
       "<table border=\"1\" class=\"dataframe\">\n",
       "  <thead>\n",
       "    <tr style=\"text-align: right;\">\n",
       "      <th></th>\n",
       "      <th>df</th>\n",
       "      <th>sum_sq</th>\n",
       "      <th>mean_sq</th>\n",
       "      <th>F</th>\n",
       "      <th>PR(&gt;F)</th>\n",
       "    </tr>\n",
       "  </thead>\n",
       "  <tbody>\n",
       "    <tr>\n",
       "      <th>C(Sweetener)</th>\n",
       "      <td>1.0</td>\n",
       "      <td>50.074074</td>\n",
       "      <td>50.074074</td>\n",
       "      <td>15.2768</td>\n",
       "      <td>0.000393351</td>\n",
       "    </tr>\n",
       "    <tr>\n",
       "      <th>C(MilkFat)</th>\n",
       "      <td>2.0</td>\n",
       "      <td>261.333333</td>\n",
       "      <td>130.666667</td>\n",
       "      <td>39.8644</td>\n",
       "      <td>7.43872e-10</td>\n",
       "    </tr>\n",
       "    <tr>\n",
       "      <th>C(Air)</th>\n",
       "      <td>2.0</td>\n",
       "      <td>436.000000</td>\n",
       "      <td>218.000000</td>\n",
       "      <td>66.5085</td>\n",
       "      <td>8.14142e-13</td>\n",
       "    </tr>\n",
       "    <tr>\n",
       "      <th>C(Sweetener):C(MilkFat)</th>\n",
       "      <td>2.0</td>\n",
       "      <td>11.259259</td>\n",
       "      <td>5.629630</td>\n",
       "      <td>1.71751</td>\n",
       "      <td>0.193895</td>\n",
       "    </tr>\n",
       "    <tr>\n",
       "      <th>C(Sweetener):C(Air)</th>\n",
       "      <td>2.0</td>\n",
       "      <td>78.814815</td>\n",
       "      <td>39.407407</td>\n",
       "      <td>12.0226</td>\n",
       "      <td>0.000100193</td>\n",
       "    </tr>\n",
       "    <tr>\n",
       "      <th>C(MilkFat):C(Air)</th>\n",
       "      <td>4.0</td>\n",
       "      <td>355.666667</td>\n",
       "      <td>88.916667</td>\n",
       "      <td>27.1271</td>\n",
       "      <td>1.98247e-10</td>\n",
       "    </tr>\n",
       "    <tr>\n",
       "      <th>C(Sweetener):C(MilkFat):C(Air)</th>\n",
       "      <td>4.0</td>\n",
       "      <td>46.185185</td>\n",
       "      <td>11.546296</td>\n",
       "      <td>3.5226</td>\n",
       "      <td>0.0158701</td>\n",
       "    </tr>\n",
       "    <tr>\n",
       "      <th>Residual</th>\n",
       "      <td>36.0</td>\n",
       "      <td>118.000000</td>\n",
       "      <td>3.277778</td>\n",
       "      <td></td>\n",
       "      <td></td>\n",
       "    </tr>\n",
       "  </tbody>\n",
       "</table>\n",
       "</div>"
      ],
      "text/plain": [
       "                                  df      sum_sq     mean_sq        F  \\\n",
       "C(Sweetener)                     1.0   50.074074   50.074074  15.2768   \n",
       "C(MilkFat)                       2.0  261.333333  130.666667  39.8644   \n",
       "C(Air)                           2.0  436.000000  218.000000  66.5085   \n",
       "C(Sweetener):C(MilkFat)          2.0   11.259259    5.629630  1.71751   \n",
       "C(Sweetener):C(Air)              2.0   78.814815   39.407407  12.0226   \n",
       "C(MilkFat):C(Air)                4.0  355.666667   88.916667  27.1271   \n",
       "C(Sweetener):C(MilkFat):C(Air)   4.0   46.185185   11.546296   3.5226   \n",
       "Residual                        36.0  118.000000    3.277778            \n",
       "\n",
       "                                     PR(>F)  \n",
       "C(Sweetener)                    0.000393351  \n",
       "C(MilkFat)                      7.43872e-10  \n",
       "C(Air)                          8.14142e-13  \n",
       "C(Sweetener):C(MilkFat)            0.193895  \n",
       "C(Sweetener):C(Air)             0.000100193  \n",
       "C(MilkFat):C(Air)               1.98247e-10  \n",
       "C(Sweetener):C(MilkFat):C(Air)    0.0158701  \n",
       "Residual                                     "
      ]
     },
     "execution_count": 109,
     "metadata": {},
     "output_type": "execute_result"
    }
   ],
   "source": [
    "anova_table = sm.stats.anova_lm(model, typ=1).replace(np.nan, '', regex=True)\n",
    "anova_table"
   ]
  },
  {
   "cell_type": "code",
   "execution_count": 97,
   "metadata": {},
   "outputs": [
    {
     "data": {
      "image/png": "[encoded data removed]",
      "text/plain": [
       "<Figure size 432x288 with 1 Axes>"
      ]
     },
     "metadata": {
      "needs_background": "light"
     },
     "output_type": "display_data"
    }
   ],
   "source": [
    "from statsmodels.graphics.factorplots import interaction_plot\n",
    "\n",
    "data_s_1 = data[data['Sweetener'] == 0.12]\n",
    "interaction_plot(x=data_s_1['Air'], trace=data_s_1['MilkFat'], response=data_s_1['Ratings'],\n",
    "                     ms=10)\n",
    "plt.title('Sweetener = 0.12')\n",
    "plt.show()"
   ]
  },
  {
   "cell_type": "code",
   "execution_count": 98,
   "metadata": {},
   "outputs": [
    {
     "data": {
      "image/png": "[encoded data removed]",
      "text/plain": [
       "<Figure size 432x288 with 1 Axes>"
      ]
     },
     "metadata": {
      "needs_background": "light"
     },
     "output_type": "display_data"
    }
   ],
   "source": [
    "data_s_2 = data[data['Sweetener'] == 0.16].reset_index()\n",
    "interaction_plot(x=data_s_2['Air'], trace=data_s_2['MilkFat'], response=data_s_2['Ratings'],\n",
    "                     ms=10)\n",
    "plt.title('Sweetener = 0.16')\n",
    "plt.show()"
   ]
  }
 ],
 "metadata": {
  "kernelspec": {
   "display_name": "Python 3",
   "language": "python",
   "name": "python3"
  },
  "language_info": {
   "codemirror_mode": {
    "name": "ipython",
    "version": 3
   },
   "file_extension": ".py",
   "mimetype": "text/x-python",
   "name": "python",
   "nbconvert_exporter": "python",
   "pygments_lexer": "ipython3",
   "version": "3.7.3"
  }
 },
 "nbformat": 4,
 "nbformat_minor": 4
}
